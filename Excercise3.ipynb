{
 "cells": [
  {
   "cell_type": "code",
   "execution_count": 1,
   "id": "c0b12342",
   "metadata": {},
   "outputs": [
    {
     "data": {
      "text/html": [
       "<div>\n",
       "<style scoped>\n",
       "    .dataframe tbody tr th:only-of-type {\n",
       "        vertical-align: middle;\n",
       "    }\n",
       "\n",
       "    .dataframe tbody tr th {\n",
       "        vertical-align: top;\n",
       "    }\n",
       "\n",
       "    .dataframe thead th {\n",
       "        text-align: right;\n",
       "    }\n",
       "</style>\n",
       "<table border=\"1\" class=\"dataframe\">\n",
       "  <thead>\n",
       "    <tr style=\"text-align: right;\">\n",
       "      <th></th>\n",
       "      <th>R&amp;D Spend</th>\n",
       "      <th>Administration</th>\n",
       "      <th>Marketing Spend</th>\n",
       "      <th>State</th>\n",
       "      <th>Profit</th>\n",
       "    </tr>\n",
       "  </thead>\n",
       "  <tbody>\n",
       "    <tr>\n",
       "      <th>0</th>\n",
       "      <td>165349.20</td>\n",
       "      <td>136897.80</td>\n",
       "      <td>471784.10</td>\n",
       "      <td>New York</td>\n",
       "      <td>192261.83</td>\n",
       "    </tr>\n",
       "    <tr>\n",
       "      <th>1</th>\n",
       "      <td>162597.70</td>\n",
       "      <td>151377.59</td>\n",
       "      <td>443898.53</td>\n",
       "      <td>California</td>\n",
       "      <td>191792.06</td>\n",
       "    </tr>\n",
       "    <tr>\n",
       "      <th>2</th>\n",
       "      <td>153441.51</td>\n",
       "      <td>101145.55</td>\n",
       "      <td>407934.54</td>\n",
       "      <td>Florida</td>\n",
       "      <td>191050.39</td>\n",
       "    </tr>\n",
       "    <tr>\n",
       "      <th>3</th>\n",
       "      <td>144372.41</td>\n",
       "      <td>118671.85</td>\n",
       "      <td>383199.62</td>\n",
       "      <td>New York</td>\n",
       "      <td>182901.99</td>\n",
       "    </tr>\n",
       "    <tr>\n",
       "      <th>4</th>\n",
       "      <td>142107.34</td>\n",
       "      <td>91391.77</td>\n",
       "      <td>366168.42</td>\n",
       "      <td>Florida</td>\n",
       "      <td>166187.94</td>\n",
       "    </tr>\n",
       "  </tbody>\n",
       "</table>\n",
       "</div>"
      ],
      "text/plain": [
       "   R&D Spend  Administration  Marketing Spend       State     Profit\n",
       "0  165349.20       136897.80        471784.10    New York  192261.83\n",
       "1  162597.70       151377.59        443898.53  California  191792.06\n",
       "2  153441.51       101145.55        407934.54     Florida  191050.39\n",
       "3  144372.41       118671.85        383199.62    New York  182901.99\n",
       "4  142107.34        91391.77        366168.42     Florida  166187.94"
      ]
     },
     "execution_count": 1,
     "metadata": {},
     "output_type": "execute_result"
    }
   ],
   "source": [
    "import numpy as np\n",
    "import pandas as pd\n",
    "from matplotlib import pyplot as plt\n",
    "data = pd.read_csv(\"50_Startups.csv\")\n",
    "data.head()"
   ]
  },
  {
   "cell_type": "code",
   "execution_count": 2,
   "id": "333a2704",
   "metadata": {},
   "outputs": [
    {
     "name": "stdout",
     "output_type": "stream",
     "text": [
      "(50, 3)\n",
      "(50, 1)\n"
     ]
    }
   ],
   "source": [
    "# Extract X, y as numpy array\n",
    "X = data.iloc[:, [0, 1, 2]].values\n",
    "y = data.iloc[:, -1:].values\n",
    "print(X.shape)\n",
    "print(y.shape)"
   ]
  },
  {
   "cell_type": "code",
   "execution_count": 3,
   "id": "172c0779",
   "metadata": {},
   "outputs": [
    {
     "name": "stdout",
     "output_type": "stream",
     "text": [
      "(40, 3) (40, 1)\n",
      "(10, 3) (40, 1)\n"
     ]
    }
   ],
   "source": [
    "# Split data into traning set and test set\n",
    "from sklearn.model_selection import train_test_split\n",
    "X_train, X_test, y_train, y_test = train_test_split(X, y, test_size=0.2, random_state= 42)\n",
    "print(X_train.shape, y_train.shape)\n",
    "print(X_test.shape, y_train.shape)\n"
   ]
  },
  {
   "cell_type": "code",
   "execution_count": 14,
   "id": "03c8ff0a",
   "metadata": {},
   "outputs": [
    {
     "name": "stdout",
     "output_type": "stream",
     "text": [
      "0.0 1.0\n",
      "0.0 0.7782360434590044\n"
     ]
    }
   ],
   "source": [
    "# Mmảlize data in to [0,1]\n",
    "# X_scale = (X-X_min)/(X_max - X_min)\n",
    "X_min = X_train.min(axis=0, keepdims=True)\n",
    "# X_min\n",
    "X_max = X_train.max(axis=0, keepdims=True)\n",
    "# X_max\n",
    "X_train_scaled = (X_train - X_min)/(X_max - X_min)\n",
    "X_test_scaled = (X_test - X_min)/(X_max - X_min)\n",
    "\n",
    "print(X_train_scaled.min(), X_train_scaled.max())\n",
    "print(X_test_scaled.min(), X_test_scaled.max())"
   ]
  },
  {
   "cell_type": "code",
   "execution_count": 5,
   "id": "1e5ba2e0",
   "metadata": {},
   "outputs": [],
   "source": [
    "# Dinh nghia function losss\n",
    "def predict(X, w):\n",
    "    y_pred = np.dot(X, w)\n",
    "    return y_pred\n",
    "def loss(y_true, y_pred):\n",
    "    return 0.5*np.mean((y_pred -y_true)**2) #Mean spuare Error"
   ]
  },
  {
   "cell_type": "code",
   "execution_count": 15,
   "id": "cf72a1ed",
   "metadata": {},
   "outputs": [
    {
     "data": {
      "text/plain": [
       "5153762606.081599"
      ]
     },
     "execution_count": 15,
     "metadata": {},
     "output_type": "execute_result"
    }
   ],
   "source": [
    "w= np.zeros((3, 1))\n",
    "w\n",
    "\n",
    "y_pred = predict(X_test_scaled, w)\n",
    "loss(y_test, y_pred)"
   ]
  },
  {
   "cell_type": "code",
   "execution_count": 17,
   "id": "5302a779",
   "metadata": {},
   "outputs": [
    {
     "data": {
      "text/plain": [
       "array([[-2635416.42003727],\n",
       "       [-2491091.92965929],\n",
       "       [-2620324.6239367 ]])"
      ]
     },
     "execution_count": 17,
     "metadata": {},
     "output_type": "execute_result"
    }
   ],
   "source": [
    "# loss lớn nên ko dùng được\n",
    "# Định nghĩa grad function để tính gradient của loss\n",
    "def grad(X, y, w):\n",
    "    y_pred = predict(X, w)\n",
    "    delta = y_pred - y\n",
    "    dw = np.dot(X.T, delta)\n",
    "    return dw\n",
    "grad(X_train_scaled, y_train, w)\n"
   ]
  },
  {
   "cell_type": "code",
   "execution_count": 20,
   "id": "c77b9407",
   "metadata": {},
   "outputs": [
    {
     "name": "stdout",
     "output_type": "stream",
     "text": [
      "7548389192.537326\n",
      "7548389192.537326\n",
      "7548389192.537326\n",
      "7548389192.537326\n",
      "7548389192.537326\n",
      "7548389192.537326\n",
      "7548389192.537326\n",
      "7548389192.537326\n",
      "7548389192.537326\n",
      "7548389192.537326\n"
     ]
    }
   ],
   "source": [
    "# tính hiệu năng của Gradient \n",
    "# 1: (init w, lr, n_epoch)\n",
    "# w = np.zeros(3, 1)\n",
    "lr = 0.001\n",
    "n_epoch = 10\n",
    "\n",
    "for i in range(n_epoch):\n",
    "    y_pred = predict(X_train_scaled, w)\n",
    "    print(loss(y_train, y_pred))\n",
    "dw=grad(X_train_scaled, y_train, w)\n",
    "w -= lr*dw"
   ]
  },
  {
   "cell_type": "code",
   "execution_count": null,
   "id": "809eb09c",
   "metadata": {},
   "outputs": [],
   "source": []
  }
 ],
 "metadata": {
  "kernelspec": {
   "display_name": "Python 3 (ipykernel)",
   "language": "python",
   "name": "python3"
  },
  "language_info": {
   "codemirror_mode": {
    "name": "ipython",
    "version": 3
   },
   "file_extension": ".py",
   "mimetype": "text/x-python",
   "name": "python",
   "nbconvert_exporter": "python",
   "pygments_lexer": "ipython3",
   "version": "3.9.13"
  }
 },
 "nbformat": 4,
 "nbformat_minor": 5
}
